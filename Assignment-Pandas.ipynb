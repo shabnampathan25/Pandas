{
 "cells": [
  {
   "cell_type": "markdown",
   "id": "9cfdb6d9-4d53-42c4-8427-34bd3a25b626",
   "metadata": {},
   "source": [
    "# Module 9. DA- Working with Pandas (python)"
   ]
  },
  {
   "cell_type": "markdown",
   "id": "21644bb0-5c85-4d8d-9fd9-aabd0bea6c67",
   "metadata": {},
   "source": [
    "## Assignment "
   ]
  },
  {
   "cell_type": "markdown",
   "id": "f586c0de-ff13-4d98-93bb-0d965c092acb",
   "metadata": {},
   "source": [
    "### 1) Create a series of three different colors."
   ]
  },
  {
   "cell_type": "code",
   "execution_count": 4,
   "id": "36d03a64-908d-42ab-8ae1-b815ebd0a3dd",
   "metadata": {},
   "outputs": [],
   "source": [
    "import numpy as np\n",
    "import pandas as pd"
   ]
  },
  {
   "cell_type": "code",
   "execution_count": 6,
   "id": "bf99d1c3-8131-4968-bf57-f40c49d70568",
   "metadata": {},
   "outputs": [
    {
     "data": {
      "text/plain": [
       "colors    [Red, Green, Blue]\n",
       "dtype: object"
      ]
     },
     "execution_count": 6,
     "metadata": {},
     "output_type": "execute_result"
    }
   ],
   "source": [
    "s =  pd.Series({'colors':['Red','Green','Blue']})\n",
    "s"
   ]
  },
  {
   "cell_type": "markdown",
   "id": "189538d2-0a2a-4d98-bdea-96837371a5e8",
   "metadata": {},
   "source": [
    "### 2) View the series of different colors."
   ]
  },
  {
   "cell_type": "code",
   "execution_count": 9,
   "id": "0e0f5b70-0637-46db-8d32-91cebe5a2b15",
   "metadata": {},
   "outputs": [
    {
     "name": "stderr",
     "output_type": "stream",
     "text": [
      "C:\\Users\\Acer\\AppData\\Local\\Temp\\ipykernel_12568\\1897797138.py:1: FutureWarning: Series.view is deprecated and will be removed in a future version. Use ``astype`` as an alternative to change the dtype.\n",
      "  s.view()\n"
     ]
    },
    {
     "data": {
      "text/plain": [
       "colors    [Red, Green, Blue]\n",
       "dtype: object"
      ]
     },
     "execution_count": 9,
     "metadata": {},
     "output_type": "execute_result"
    }
   ],
   "source": [
    "s.view()"
   ]
  },
  {
   "cell_type": "markdown",
   "id": "e466b026-1c3b-455f-9f66-e8ffea5662f0",
   "metadata": {},
   "source": [
    "### 3) Create a series of three different car types and view it."
   ]
  },
  {
   "cell_type": "code",
   "execution_count": 20,
   "id": "d2aec624-acc2-41ef-b681-41addb714fef",
   "metadata": {},
   "outputs": [
    {
     "data": {
      "text/plain": [
       "Car Types    [SUV, Hatchback, Sedan]\n",
       "dtype: object"
      ]
     },
     "execution_count": 20,
     "metadata": {},
     "output_type": "execute_result"
    }
   ],
   "source": [
    "c = pd.Series({'Car Types':['SUV','Hatchback','Sedan']})\n",
    "c"
   ]
  },
  {
   "cell_type": "markdown",
   "id": "6b4eeb9f-6b4a-4586-a45e-ff19d3a1f254",
   "metadata": {},
   "source": [
    "### 4) Combine the Series of cars and colors into a Data Frame."
   ]
  },
  {
   "cell_type": "code",
   "execution_count": 204,
   "id": "d65c9f59-e430-43f3-af8c-f5f60af02588",
   "metadata": {},
   "outputs": [
    {
     "name": "stdout",
     "output_type": "stream",
     "text": [
      "  Colors  Car Types\n",
      "0    Red        SUV\n",
      "1  Green  Hatchback\n",
      "2   Blue      Sedan\n"
     ]
    }
   ],
   "source": [
    "s = pd.Series(['Red','Green','Blue'],name='colors')\n",
    "c = pd.Series(['SUV','Hatchback','Sedan'],name='Car Types')\n",
    "df = pd.DataFrame({'Colors':s,'Car Types':c})\n",
    "print(df) \n",
    "# or \n",
    "#df"
   ]
  },
  {
   "cell_type": "markdown",
   "id": "7ec6f7df-130b-444d-8514-80d1ad7a82f8",
   "metadata": {},
   "source": [
    "### 5) Find the different datatypes of the car data Data Frame."
   ]
  },
  {
   "cell_type": "code",
   "execution_count": 57,
   "id": "0f1921b1-17e5-41f5-a9c4-7e4332c46c89",
   "metadata": {},
   "outputs": [
    {
     "data": {
      "text/plain": [
       "Colors       object\n",
       "Car Types    object\n",
       "dtype: object"
      ]
     },
     "execution_count": 57,
     "metadata": {},
     "output_type": "execute_result"
    }
   ],
   "source": [
    "df.dtypes"
   ]
  },
  {
   "cell_type": "markdown",
   "id": "1585fb3e-6589-4150-bd4e-4f042db6c4b7",
   "metadata": {},
   "source": [
    "### 6) Describe your current car sales Data Frame using describe ()."
   ]
  },
  {
   "cell_type": "code",
   "execution_count": 206,
   "id": "f8676612-a64e-4c62-b4be-176f5f5bacb3",
   "metadata": {},
   "outputs": [
    {
     "name": "stdout",
     "output_type": "stream",
     "text": [
      "  Colors  Car Types  Car Sales\n",
      "0    Red        SUV        500\n",
      "1  Green  Hatchback        700\n",
      "2   Blue      Sedan        900\n",
      "\n",
      "Summery of dataframe are :\n",
      "\n",
      "        Car Sales\n",
      "count        3.0\n",
      "mean       700.0\n",
      "std        200.0\n",
      "min        500.0\n",
      "25%        600.0\n",
      "50%        700.0\n",
      "75%        800.0\n",
      "max        900.0\n"
     ]
    }
   ],
   "source": [
    "s  = pd.Series(['Red','Green','Blue'],name = 'colors')\n",
    "c  = pd.Series(['SUV','Hatchback','Sedan'],name = 'Car Types')\n",
    "cs = pd.Series([500,700,900],name = 'Car Sales')\n",
    "\n",
    "df = pd.DataFrame({'Colors':s,'Car Types':c,'Car Sales':cs})\n",
    "\n",
    "print(df)\n",
    "print()\n",
    "print(\"Summery of dataframe are :\\n\\n\",df.describe())"
   ]
  },
  {
   "cell_type": "code",
   "execution_count": 66,
   "id": "6d16ed2f-12d1-4258-b869-922f83bd4e17",
   "metadata": {},
   "outputs": [
    {
     "data": {
      "text/html": [
       "<div>\n",
       "<style scoped>\n",
       "    .dataframe tbody tr th:only-of-type {\n",
       "        vertical-align: middle;\n",
       "    }\n",
       "\n",
       "    .dataframe tbody tr th {\n",
       "        vertical-align: top;\n",
       "    }\n",
       "\n",
       "    .dataframe thead th {\n",
       "        text-align: right;\n",
       "    }\n",
       "</style>\n",
       "<table border=\"1\" class=\"dataframe\">\n",
       "  <thead>\n",
       "    <tr style=\"text-align: right;\">\n",
       "      <th></th>\n",
       "      <th>Colors</th>\n",
       "      <th>Car Types</th>\n",
       "      <th>Car Sales</th>\n",
       "    </tr>\n",
       "  </thead>\n",
       "  <tbody>\n",
       "    <tr>\n",
       "      <th>count</th>\n",
       "      <td>3</td>\n",
       "      <td>3</td>\n",
       "      <td>3.0</td>\n",
       "    </tr>\n",
       "    <tr>\n",
       "      <th>unique</th>\n",
       "      <td>3</td>\n",
       "      <td>3</td>\n",
       "      <td>NaN</td>\n",
       "    </tr>\n",
       "    <tr>\n",
       "      <th>top</th>\n",
       "      <td>Red</td>\n",
       "      <td>SUV</td>\n",
       "      <td>NaN</td>\n",
       "    </tr>\n",
       "    <tr>\n",
       "      <th>freq</th>\n",
       "      <td>1</td>\n",
       "      <td>1</td>\n",
       "      <td>NaN</td>\n",
       "    </tr>\n",
       "    <tr>\n",
       "      <th>mean</th>\n",
       "      <td>NaN</td>\n",
       "      <td>NaN</td>\n",
       "      <td>700.0</td>\n",
       "    </tr>\n",
       "    <tr>\n",
       "      <th>std</th>\n",
       "      <td>NaN</td>\n",
       "      <td>NaN</td>\n",
       "      <td>200.0</td>\n",
       "    </tr>\n",
       "    <tr>\n",
       "      <th>min</th>\n",
       "      <td>NaN</td>\n",
       "      <td>NaN</td>\n",
       "      <td>500.0</td>\n",
       "    </tr>\n",
       "    <tr>\n",
       "      <th>25%</th>\n",
       "      <td>NaN</td>\n",
       "      <td>NaN</td>\n",
       "      <td>600.0</td>\n",
       "    </tr>\n",
       "    <tr>\n",
       "      <th>50%</th>\n",
       "      <td>NaN</td>\n",
       "      <td>NaN</td>\n",
       "      <td>700.0</td>\n",
       "    </tr>\n",
       "    <tr>\n",
       "      <th>75%</th>\n",
       "      <td>NaN</td>\n",
       "      <td>NaN</td>\n",
       "      <td>800.0</td>\n",
       "    </tr>\n",
       "    <tr>\n",
       "      <th>max</th>\n",
       "      <td>NaN</td>\n",
       "      <td>NaN</td>\n",
       "      <td>900.0</td>\n",
       "    </tr>\n",
       "  </tbody>\n",
       "</table>\n",
       "</div>"
      ],
      "text/plain": [
       "       Colors Car Types  Car Sales\n",
       "count       3         3        3.0\n",
       "unique      3         3        NaN\n",
       "top       Red       SUV        NaN\n",
       "freq        1         1        NaN\n",
       "mean      NaN       NaN      700.0\n",
       "std       NaN       NaN      200.0\n",
       "min       NaN       NaN      500.0\n",
       "25%       NaN       NaN      600.0\n",
       "50%       NaN       NaN      700.0\n",
       "75%       NaN       NaN      800.0\n",
       "max       NaN       NaN      900.0"
      ]
     },
     "execution_count": 66,
     "metadata": {},
     "output_type": "execute_result"
    }
   ],
   "source": [
    "df.describe(include='all')"
   ]
  },
  {
   "cell_type": "markdown",
   "id": "e9b1afb1-b977-400d-88cf-14e96a832bad",
   "metadata": {},
   "source": [
    "### 7) Get information about your Data Frame using info ()."
   ]
  },
  {
   "cell_type": "code",
   "execution_count": 69,
   "id": "319be9d3-2d8c-4a52-9d15-2f4155572660",
   "metadata": {},
   "outputs": [
    {
     "name": "stdout",
     "output_type": "stream",
     "text": [
      "<class 'pandas.core.frame.DataFrame'>\n",
      "RangeIndex: 3 entries, 0 to 2\n",
      "Data columns (total 3 columns):\n",
      " #   Column     Non-Null Count  Dtype \n",
      "---  ------     --------------  ----- \n",
      " 0   Colors     3 non-null      object\n",
      " 1   Car Types  3 non-null      object\n",
      " 2   Car Sales  3 non-null      int64 \n",
      "dtypes: int64(1), object(2)\n",
      "memory usage: 204.0+ bytes\n"
     ]
    }
   ],
   "source": [
    "df.info()"
   ]
  },
  {
   "cell_type": "markdown",
   "id": "419405c8-44e4-4de7-8399-91f1cfc0c4dc",
   "metadata": {},
   "source": [
    "### 8) Create a Series of different numbers and find the mean of them."
   ]
  },
  {
   "cell_type": "code",
   "execution_count": 83,
   "id": "40227ebe-3d6d-4427-8ddb-3d9c1420a550",
   "metadata": {},
   "outputs": [
    {
     "name": "stdout",
     "output_type": "stream",
     "text": [
      "0    41\n",
      "1    21\n",
      "2    31\n",
      "3    51\n",
      "4    61\n",
      "5    91\n",
      "6    11\n",
      "dtype: int64\n",
      "Mean of a Series : 43.857142857142854\n"
     ]
    }
   ],
   "source": [
    "S = pd.Series([41,21,31,51,61,91,11])\n",
    "print(S)\n",
    "print(\"Mean of a Series :\",S.mean())"
   ]
  },
  {
   "cell_type": "markdown",
   "id": "d4f8bf52-acc9-41ba-b0e2-a9a6730ac895",
   "metadata": {},
   "source": [
    "### 9) Create a Series of different numbers and find the sum of them."
   ]
  },
  {
   "cell_type": "code",
   "execution_count": 81,
   "id": "112ff706-6970-486f-840f-a7c32d67d137",
   "metadata": {},
   "outputs": [
    {
     "name": "stdout",
     "output_type": "stream",
     "text": [
      "Sum of a series : 307\n"
     ]
    }
   ],
   "source": [
    "S = pd.Series([41,21,31,51,61,91,11])\n",
    "print(\"Sum of a series :\",S.sum())"
   ]
  },
  {
   "cell_type": "markdown",
   "id": "f2866597-1f22-4ad7-9491-5d01f4349d15",
   "metadata": {},
   "source": [
    "### 10) List out all the column names of the car sales Data Frame."
   ]
  },
  {
   "cell_type": "code",
   "execution_count": 200,
   "id": "5685b3af-3b40-47b5-9713-1dbfe3ca15ba",
   "metadata": {},
   "outputs": [
    {
     "name": "stdout",
     "output_type": "stream",
     "text": [
      "List of all column names is : ['Colors', 'Car Types', 'Car Sales']\n"
     ]
    }
   ],
   "source": [
    "s  = pd.Series(['Red','Green','Blue'],name = 'colors')\n",
    "c  = pd.Series(['SUV','Hatchback','Sedan'],name = 'Car Types')\n",
    "cs = pd.Series([500,700,900],name = 'Car Sales')\n",
    "\n",
    "df = pd.DataFrame({'Colors':s,'Car Types':c,'Car Sales':cs})\n",
    "\n",
    "print(\"List of all column names is :\",list(df.columns))"
   ]
  },
  {
   "cell_type": "markdown",
   "id": "fcb76c3a-4512-48ee-b6a2-beb8859e18d9",
   "metadata": {},
   "source": [
    "### 11) Find the length of the car sales Data Frame."
   ]
  },
  {
   "cell_type": "code",
   "execution_count": 198,
   "id": "d13c79b6-4386-4d50-b335-d285a1f44f31",
   "metadata": {},
   "outputs": [
    {
     "name": "stdout",
     "output_type": "stream",
     "text": [
      "The lenght of the car sales dataframe is  3\n"
     ]
    }
   ],
   "source": [
    "s  = pd.Series(['Red','Green','Blue'],name = 'colors')\n",
    "c  = pd.Series(['SUV','Hatchback','Sedan'],name = 'Car Types')\n",
    "cs = pd.Series([500,700,900],name = 'Car Sales')\n",
    "\n",
    "df = pd.DataFrame({'Colors':s,'Car Types':c,'Car Sales':cs})\n",
    "\n",
    "print(\"The lenght of the car sales dataframe is \",len(df))"
   ]
  },
  {
   "cell_type": "markdown",
   "id": "06dc3ac6-f037-42a1-9457-17c711d2ac9a",
   "metadata": {},
   "source": [
    "### 12) Show the first 5 rows of the car sales Data Frame."
   ]
  },
  {
   "cell_type": "code",
   "execution_count": 129,
   "id": "d638cde7-ece2-4dee-91ef-8a26295c9932",
   "metadata": {},
   "outputs": [
    {
     "name": "stdout",
     "output_type": "stream",
     "text": [
      "The first 5 rows of the car sales dataframe :\n",
      "   Colors    Car Types  Car Sales\n",
      "0    Red          SUV        500\n",
      "1  Green    Hatchback        700\n",
      "2   Blue        Sedan        900\n",
      "3  White  Convertible       1000\n",
      "4  Black          SUV        300\n",
      "\n",
      "The first 5 rows of the car sales dataframe :\n",
      "   Colors    Car Types  Car Sales\n",
      "0    Red          SUV        500\n",
      "1  Green    Hatchback        700\n",
      "2   Blue        Sedan        900\n",
      "3  White  Convertible       1000\n",
      "4  Black          SUV        300\n",
      "\n",
      "The first 5 rows of the car sales dataframe :\n",
      "   Colors    Car Types  Car Sales\n",
      "0    Red          SUV        500\n",
      "1  Green    Hatchback        700\n",
      "2   Blue        Sedan        900\n",
      "3  White  Convertible       1000\n",
      "4  Black          SUV        300\n"
     ]
    }
   ],
   "source": [
    "s  = pd.Series(['Red','Green','Blue','White','Black','Yellow','Gray','Silver','Blue','White','Black','Red'],name = 'colors')\n",
    "c  = pd.Series(['SUV','Hatchback','Sedan','Convertible','SUV','Hatchback','Minivan','Sedan','SUV','Hatchback','Sedan','Pickup truck'],name = 'Car Types')\n",
    "cs = pd.Series([500,700,900,1000,300,200,400,300,910,800,1100,200],name = 'Car Sales')\n",
    "\n",
    "df = pd.DataFrame({'Colors':s,'Car Types':c,'Car Sales':cs})\n",
    "\n",
    "print(\"The first 5 rows of the car sales dataframe :\\n\",df.head())\n",
    "\n",
    "#or\n",
    "\n",
    "print(\"\\nThe first 5 rows of the car sales dataframe :\\n\",df.head(5))\n",
    "\n",
    "#or\n",
    "\n",
    "print(\"\\nThe first 5 rows of the car sales dataframe :\\n\",df[0:5])"
   ]
  },
  {
   "cell_type": "markdown",
   "id": "21aa28f5-daaa-4d0a-8866-62184b55f1fc",
   "metadata": {},
   "source": [
    "### 13) Show the first 7 rows of the car sales Data Frame."
   ]
  },
  {
   "cell_type": "code",
   "execution_count": 132,
   "id": "063358d8-473c-4359-b10e-da3937c54336",
   "metadata": {},
   "outputs": [
    {
     "name": "stdout",
     "output_type": "stream",
     "text": [
      "The first 7 rows of the car sales dataframe :\n",
      "    Colors    Car Types  Car Sales\n",
      "0     Red          SUV        500\n",
      "1   Green    Hatchback        700\n",
      "2    Blue        Sedan        900\n",
      "3   White  Convertible       1000\n",
      "4   Black          SUV        300\n",
      "5  Yellow    Hatchback        200\n",
      "6    Gray      Minivan        400\n",
      "\n",
      "The first 7 rows of the car sales dataframe :\n",
      "    Colors    Car Types  Car Sales\n",
      "0     Red          SUV        500\n",
      "1   Green    Hatchback        700\n",
      "2    Blue        Sedan        900\n",
      "3   White  Convertible       1000\n",
      "4   Black          SUV        300\n",
      "5  Yellow    Hatchback        200\n",
      "6    Gray      Minivan        400\n"
     ]
    }
   ],
   "source": [
    "print(\"The first 7 rows of the car sales dataframe :\\n\",df.head(7))\n",
    "\n",
    "# or\n",
    "\n",
    "print(\"\\nThe first 7 rows of the car sales dataframe :\\n\",df[0:7])"
   ]
  },
  {
   "cell_type": "markdown",
   "id": "81488213-5aa9-40d3-a7d2-1926a9e14ae6",
   "metadata": {},
   "source": [
    "### 14) Show the bottom 5 rows of the car sales Data Frame."
   ]
  },
  {
   "cell_type": "code",
   "execution_count": 154,
   "id": "830ba3a6-530a-40ee-905e-163da2ca2e81",
   "metadata": {},
   "outputs": [
    {
     "name": "stdout",
     "output_type": "stream",
     "text": [
      "\n",
      "The bottom 5 rows of the car sales dataframe  are :\n",
      "\n",
      "     Colors     Car Types  Car Sales\n",
      "7   Silver         Sedan        300\n",
      "8     Blue           SUV        910\n",
      "9    White     Hatchback        800\n",
      "10   Black         Sedan       1100\n",
      "11     Red  Pickup truck        200\n",
      "\n",
      "The bottom 5 rows of the car sales dataframe  are :\n",
      "\n",
      "     Colors     Car Types  Car Sales\n",
      "7   Silver         Sedan        300\n",
      "8     Blue           SUV        910\n",
      "9    White     Hatchback        800\n",
      "10   Black         Sedan       1100\n",
      "11     Red  Pickup truck        200\n",
      "\n",
      "The bottom 5 rows of the car sales dataframe  are :\n",
      "\n",
      "     Colors     Car Types  Car Sales\n",
      "7   Silver         Sedan        300\n",
      "8     Blue           SUV        910\n",
      "9    White     Hatchback        800\n",
      "10   Black         Sedan       1100\n",
      "11     Red  Pickup truck        200\n"
     ]
    }
   ],
   "source": [
    "print(\"\\nThe bottom 5 rows of the car sales dataframe  are :\\n\\n\",df.tail()) \n",
    "\n",
    "#or\n",
    "\n",
    "print(\"\\nThe bottom 5 rows of the car sales dataframe  are :\\n\\n\",df.tail(5))\n",
    "\n",
    "#or\n",
    "\n",
    "print(\"\\nThe bottom 5 rows of the car sales dataframe  are :\\n\\n\",df[-5:])"
   ]
  },
  {
   "cell_type": "markdown",
   "id": "d3520017-fb58-4dc2-a8d5-46228093ab9f",
   "metadata": {},
   "source": [
    "### 15) Use .loc to select the row at index 3 of the car sales Data Frame. "
   ]
  },
  {
   "cell_type": "code",
   "execution_count": 175,
   "id": "9d6eb593-bda2-49b5-94a7-80eb12746410",
   "metadata": {},
   "outputs": [
    {
     "name": "stdout",
     "output_type": "stream",
     "text": [
      "Show the row at index 3 in dataframe is :\n",
      "\n",
      " Colors             White\n",
      "Car Types    Convertible\n",
      "Car Sales           1000\n",
      "Name: 3, dtype: object\n"
     ]
    }
   ],
   "source": [
    "print(\"Show the row at index 3 in dataframe is :\\n\\n\",df.loc[3])\n"
   ]
  },
  {
   "cell_type": "markdown",
   "id": "7d471e9c-4faa-49be-98ba-35015fe6a6f4",
   "metadata": {},
   "source": [
    "### 16) Use. iloc to select the row at position 3 of the car sales Data Frame."
   ]
  },
  {
   "cell_type": "code",
   "execution_count": 177,
   "id": "99abc6f5-2696-4b4f-a667-6b1793168171",
   "metadata": {},
   "outputs": [
    {
     "name": "stdout",
     "output_type": "stream",
     "text": [
      "Show the row at postion 3 in dataframe is :\n",
      "\n",
      "   Colors    Car Types  Car Sales\n",
      "3  White  Convertible       1000\n"
     ]
    }
   ],
   "source": [
    "print(\"Show the row at postion 3 in dataframe is :\\n\\n\",df.iloc[[3]])"
   ]
  },
  {
   "cell_type": "markdown",
   "id": "19f040ad-7777-4b01-b935-ed450adf6ae9",
   "metadata": {},
   "source": [
    "### 17) Create a crosstab of the Make and Doors columns. "
   ]
  },
  {
   "cell_type": "code",
   "execution_count": 190,
   "id": "35163744-311b-45bb-b945-56d7ead99b69",
   "metadata": {},
   "outputs": [
    {
     "name": "stdout",
     "output_type": "stream",
     "text": [
      "Data frame is :\n",
      "      Make  Doors  Sales\n",
      "0  Toyota      4    500\n",
      "1   Honda      4    700\n",
      "2    Ford      4    300\n",
      "3  Toyota      2    400\n",
      "4   Honda      2    600\n",
      "5    Ford      2    200\n",
      "6  Toyota      4    450\n",
      "\n",
      "A crosstab of the make and doors columns are :\n",
      " Doors   2  4\n",
      "Make        \n",
      "Ford    1  1\n",
      "Honda   1  1\n",
      "Toyota  1  2\n"
     ]
    }
   ],
   "source": [
    "data = {\n",
    "    'Make': ['Toyota', 'Honda', 'Ford', 'Toyota', 'Honda', 'Ford', 'Toyota'],\n",
    "    'Doors': [4, 4, 4, 2, 2, 2, 4],\n",
    "    'Sales': [500, 700, 300, 400, 600, 200, 450]\n",
    "}\n",
    "df = pd.DataFrame(data)\n",
    "\n",
    "print(\"Data frame is :\\n\",df)\n",
    "\n",
    "crosstab_result = pd.crosstab(df['Make'], df['Doors'])\n",
    "\n",
    "print(\"\\nA crosstab of the make and doors columns are :\\n\",crosstab_result)"
   ]
  },
  {
   "cell_type": "code",
   "execution_count": null,
   "id": "57d75ab1-79d9-41fe-ba0f-7dbbb914a795",
   "metadata": {},
   "outputs": [],
   "source": []
  }
 ],
 "metadata": {
  "kernelspec": {
   "display_name": "Python 3 (ipykernel)",
   "language": "python",
   "name": "python3"
  },
  "language_info": {
   "codemirror_mode": {
    "name": "ipython",
    "version": 3
   },
   "file_extension": ".py",
   "mimetype": "text/x-python",
   "name": "python",
   "nbconvert_exporter": "python",
   "pygments_lexer": "ipython3",
   "version": "3.12.4"
  }
 },
 "nbformat": 4,
 "nbformat_minor": 5
}
